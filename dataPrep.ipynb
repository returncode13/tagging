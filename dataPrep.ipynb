{
 "cells": [
  {
   "cell_type": "code",
   "execution_count": 5,
   "metadata": {},
   "outputs": [],
   "source": [
    "import rsf.api as rsf\n",
    "import numpy as np\n",
    "from os import listdir\n",
    "from os.path import isfile,join"
   ]
  },
  {
   "cell_type": "code",
   "execution_count": 6,
   "metadata": {},
   "outputs": [],
   "source": [
    "def rsf_to_numpy(folder,rsf_file,isbias,y_train):\n",
    "    \"This function converts rsf files\" \n",
    "    \"to numpy ndarrays , creates the ground truth values and saves them as txt files\"\n",
    "    loc=join(folder,rsf_file)\n",
    "    ip=rsf.Input(loc)\n",
    "    n1=ip.int(\"n1\")\n",
    "    n2=ip.int(\"n2\")\n",
    "    data=np.zeros((n2,n1),'f')\n",
    "    ip.read(data)\n",
    "    data=data.T\n",
    "    out=join(folder,\"tensors\",rsf_file.split('.')[0])+\".txt\"\n",
    "    print \"for ip: \",rsf_file,\" data.shape = \",data.shape\n",
    "    np.savetxt(out,data)\n",
    "    if isbias:\n",
    "        #y_train=np.append(y_train,[0])\n",
    "        y_train.append(0)\n",
    "    else:\n",
    "        #y_train=np.append(y_train,[1])    \n",
    "        y_train.append(1)\n",
    "    print \"done saving file \",out,\"len(y_train) \",len(y_train)\n",
    "    data=data.reshape(n1*n2)\n",
    "    print \"on reshape: \",data.shape\n",
    "    return data\n",
    "    "
   ]
  },
  {
   "cell_type": "markdown",
   "metadata": {},
   "source": [
    "hdd_biased is where the rsf data is been held  \n",
    "hdd_filtered is where the filtered data is been held"
   ]
  },
  {
   "cell_type": "code",
   "execution_count": 7,
   "metadata": {},
   "outputs": [],
   "source": [
    "hdd_biased=\"/media/sharath/Elements/RSF/biased/seq_78/test\"\n",
    "hdd_filtered=\"/media/sharath/Elements/RSF/filtered/seq_78/test\"\n",
    "\n",
    "n1=4501\n",
    "n2=648\n",
    "biased_files=[f for f in listdir(hdd_biased) if isfile(join(hdd_biased,f))]\n",
    "filtered_files=[f for f in listdir(hdd_filtered) if isfile(join(hdd_filtered,f))]\n",
    "y_train=[]\n",
    "#total_samples=len(biased_files)+len(filtered_files)\n",
    "total_samples=4\n",
    "x_train=np.zeros((total_samples,n1*n2))"
   ]
  },
  {
   "cell_type": "code",
   "execution_count": 8,
   "metadata": {},
   "outputs": [
    {
     "name": "stdout",
     "output_type": "stream",
     "text": [
      "for ip:  shot_19.rsf  data.shape =  (4501, 648)\n",
      "done saving file  /media/sharath/Elements/RSF/biased/seq_78/test/tensors/shot_19.txt len(y_train)  1\n",
      "on reshape:  (2916648,)\n",
      "for ip:  shot_2.rsf  data.shape =  (4501, 648)\n",
      "done saving file  /media/sharath/Elements/RSF/biased/seq_78/test/tensors/shot_2.txt len(y_train)  2\n",
      "on reshape:  (2916648,)\n",
      "Finished with bias seismic data: x_train.shape (4, 2916648)\n"
     ]
    }
   ],
   "source": [
    "i=0\n",
    "tp=[]\n",
    "for f in biased_files:\n",
    "    x_train[i]=rsf_to_numpy(hdd_biased,f,True,y_train)\n",
    "    i=i+1\n",
    "    if i==5:\n",
    "        break\n",
    "    \n",
    "\n",
    "print \"Finished with bias seismic data: x_train.shape\",x_train.shape\n",
    "\n"
   ]
  },
  {
   "cell_type": "code",
   "execution_count": 9,
   "metadata": {
    "scrolled": true
   },
   "outputs": [
    {
     "name": "stdout",
     "output_type": "stream",
     "text": [
      "for ip:  filtered_shot_52.rsf  data.shape =  (4501, 648)\n",
      "done saving file  /media/sharath/Elements/RSF/filtered/seq_78/test/tensors/filtered_shot_52.txt len(y_train)  3\n",
      "on reshape:  (2916648,)\n",
      "for ip:  filtered_shot_62.rsf  data.shape =  (4501, 648)\n",
      "done saving file  /media/sharath/Elements/RSF/filtered/seq_78/test/tensors/filtered_shot_62.txt len(y_train)  4\n",
      "on reshape:  (2916648,)\n",
      "Finished with filtered seismic data: x_train.shape (4, 2916648)\n"
     ]
    }
   ],
   "source": [
    "#for f in filtered_files:\n",
    "    #rsf_to_numpy(hdd_filtered,f,False,y_train)\n",
    "#print \"Finished with filtered seismic data\"\n",
    "j=0\n",
    "for f in filtered_files:\n",
    "    x_train[i]=rsf_to_numpy(hdd_filtered,f,False,y_train)\n",
    "    i=i+1\n",
    "    j=j+1\n",
    "    if j==5:\n",
    "        break\n",
    "    \n",
    "print \"Finished with filtered seismic data: x_train.shape\",x_train.shape"
   ]
  },
  {
   "cell_type": "markdown",
   "metadata": {},
   "source": [
    "save the data to file, currently saving to separate files. fix this later"
   ]
  },
  {
   "cell_type": "code",
   "execution_count": 10,
   "metadata": {},
   "outputs": [],
   "source": [
    "hdd_csv=\"/media/sharath/Elements/RSF/test_data/test_data.csv\"\n",
    "hdd_label_csv=\"/media/sharath/Elements/RSF/test_data/test_labels.csv\"\n",
    "np.savetxt(hdd_csv,x_train)\n",
    "np.savetxt(hdd_label_csv,y_train)"
   ]
  },
  {
   "cell_type": "markdown",
   "metadata": {},
   "source": [
    "load to test"
   ]
  },
  {
   "cell_type": "code",
   "execution_count": 11,
   "metadata": {},
   "outputs": [],
   "source": [
    "ld_data_train=np.loadtxt(hdd_csv)\n",
    "ld_label_train=np.loadtxt(hdd_label_csv)"
   ]
  },
  {
   "cell_type": "markdown",
   "metadata": {},
   "source": [
    "reshape back to (4501,648)"
   ]
  },
  {
   "cell_type": "code",
   "execution_count": 12,
   "metadata": {},
   "outputs": [
    {
     "data": {
      "text/plain": [
       "(4501, 648)"
      ]
     },
     "execution_count": 12,
     "metadata": {},
     "output_type": "execute_result"
    }
   ],
   "source": [
    "ld_data_train=ld_data_train.reshape(total_samples,n1,n2)\n",
    "ld_data_train[0].shape\n",
    "#ld_label_train[0]"
   ]
  },
  {
   "cell_type": "code",
   "execution_count": 13,
   "metadata": {},
   "outputs": [
    {
     "data": {
      "text/plain": [
       "0.0"
      ]
     },
     "execution_count": 13,
     "metadata": {},
     "output_type": "execute_result"
    }
   ],
   "source": [
    "ld_label_train[0]"
   ]
  },
  {
   "cell_type": "code",
   "execution_count": 15,
   "metadata": {},
   "outputs": [
    {
     "data": {
      "text/plain": [
       "array([[ -3.53707170e+00,  -9.09118414e-01,   1.05298364e+00, ...,\n",
       "         -2.18777061e+00,  -2.26839662e+00,  -1.94607246e+00],\n",
       "       [ -4.96213961e+00,  -1.29937255e+00,   1.52732480e+00, ...,\n",
       "         -3.00013590e+00,  -3.23135638e+00,  -2.67726254e+00],\n",
       "       [ -4.91976070e+00,  -1.34275794e+00,   1.61675799e+00, ...,\n",
       "         -2.85743761e+00,  -3.32594514e+00,  -2.61335254e+00],\n",
       "       ..., \n",
       "       [  3.43362302e-01,  -2.30657458e-01,  -7.98087940e-02, ...,\n",
       "         -2.73037776e-02,   2.01180711e-01,   1.44029886e-01],\n",
       "       [  2.10891545e-01,  -1.41112357e-01,  -5.57716787e-02, ...,\n",
       "         -2.39794771e-03,   9.69995037e-02,   1.43686548e-01],\n",
       "       [  5.27459309e-02,  -3.51751782e-02,  -1.54954344e-02, ...,\n",
       "          2.63451715e-03,   2.07827501e-02,   4.26022634e-02]])"
      ]
     },
     "execution_count": 15,
     "metadata": {},
     "output_type": "execute_result"
    }
   ],
   "source": [
    "ld_data_train[3]"
   ]
  },
  {
   "cell_type": "code",
   "execution_count": 16,
   "metadata": {},
   "outputs": [],
   "source": [
    "from bokeh.plotting import figure, show\n",
    "import numpy\n",
    "a = numpy.array([[1,2], [3, 4]])\n",
    "p = figure(x_range=(0, 648), y_range=(0,4501), tooltips=[(\"x\", \"$x\"), (\"y\", \"$y\"), (\"value\", \"@image\"),(\"label\",str(ld_label_train[0]))])\n",
    "\n",
    "# must give a vector of image data for image parameter\n",
    "p.image(image=[ld_data_train[0]], x=0, y=0,dw=648,dh=4501, palette=\"Greys9\")\n",
    "\n",
    "\n",
    "show(p)"
   ]
  },
  {
   "cell_type": "code",
   "execution_count": 18,
   "metadata": {},
   "outputs": [],
   "source": [
    "from bokeh.plotting import figure, show\n",
    "import numpy\n",
    "a = numpy.array([[1,2], [3, 4]])\n",
    "p = figure(x_range=(0, 648), y_range=(0,4501), tooltips=[(\"x\", \"$x\"), (\"y\", \"$y\"), (\"value\", \"@image\"),(\"label\",str(ld_label_train[3]))])\n",
    "\n",
    "# must give a vector of image data for image parameter\n",
    "p.image(image=[ld_data_train[3]], x=0, y=0,dw=648,dh=4501, palette=\"Greys9\")\n",
    "\n",
    "\n",
    "show(p)"
   ]
  },
  {
   "cell_type": "code",
   "execution_count": null,
   "metadata": {},
   "outputs": [],
   "source": []
  }
 ],
 "metadata": {
  "kernelspec": {
   "display_name": "Python 2",
   "language": "python",
   "name": "python2"
  },
  "language_info": {
   "codemirror_mode": {
    "name": "ipython",
    "version": 2
   },
   "file_extension": ".py",
   "mimetype": "text/x-python",
   "name": "python",
   "nbconvert_exporter": "python",
   "pygments_lexer": "ipython2",
   "version": "2.7.12"
  }
 },
 "nbformat": 4,
 "nbformat_minor": 2
}
