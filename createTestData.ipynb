{
 "cells": [
  {
   "cell_type": "code",
   "execution_count": 27,
   "metadata": {},
   "outputs": [],
   "source": [
    "import rsf.api as rsf\n",
    "import numpy as np\n",
    "from os import listdir\n",
    "from os.path import isfile,join"
   ]
  },
  {
   "cell_type": "code",
   "execution_count": 28,
   "metadata": {},
   "outputs": [],
   "source": [
    "def rsf_to_numpy(folder,rsf_file,isbias,y_train):\n",
    "    \"This function converts rsf files\" \n",
    "    \"to numpy ndarrays , creates the ground truth values and saves them as txt files\"\n",
    "    loc=join(folder,rsf_file)\n",
    "    ip=rsf.Input(loc)\n",
    "    n1=ip.int(\"n1\")\n",
    "    n2=ip.int(\"n2\")\n",
    "    data=np.zeros((n2,n1),'f')\n",
    "    ip.read(data)\n",
    "    data=data.T\n",
    "    out=join(folder,\"tensors\",rsf_file.split('.')[0])+\".txt\"\n",
    "    print \"for ip: \",rsf_file,\" data.shape = \",data.shape\n",
    "    np.savetxt(out,data)\n",
    "    #if isbias:\n",
    "        #y_train=np.append(y_train,[0])\n",
    "    #    y_train.append(0)\n",
    "    #else:\n",
    "        #y_train=np.append(y_train,[1])    \n",
    "    #    y_train.append(1)\n",
    "    #print \"done saving file \",out,\"len(y_train) \",len(y_train)\n",
    "    data=data.reshape(n1*n2)\n",
    "    print \"on reshape: \",data.shape\n",
    "    return data\n",
    "    "
   ]
  },
  {
   "cell_type": "markdown",
   "metadata": {},
   "source": [
    "hdd_biased is where the rsf data is been held  \n",
    "hdd_filtered is where the filtered data is been held"
   ]
  },
  {
   "cell_type": "code",
   "execution_count": 29,
   "metadata": {},
   "outputs": [],
   "source": [
    "hdd_biased=\"/media/ebs_3tb/poc-machine-seis/data/biased\"\n",
    "hdd_filtered=\"/media/ebs_3tb/poc-machine-seis/data/filtered\"\n",
    "\n",
    "n1=1126\n",
    "n2=648\n",
    "biased_files=[f for f in listdir(hdd_biased) if isfile(join(hdd_biased,f))]\n",
    "filtered_files=[f for f in listdir(hdd_filtered) if isfile(join(hdd_filtered,f))]\n",
    "y_train=[]\n",
    "#total_samples=len(biased_files)+len(filtered_files)\n",
    "total_samples=100\n",
    "x_train=np.zeros((total_samples,n1*n2))"
   ]
  },
  {
   "cell_type": "code",
   "execution_count": 30,
   "metadata": {},
   "outputs": [
    {
     "name": "stdout",
     "output_type": "stream",
     "text": [
      "for ip:  shot_32.rsf  data.shape =  (4501, 648)\n",
      "done saving file  /media/ebs_3tb/poc-machine-seis/data/biased/tensors/shot_32.txt len(y_train)  1\n",
      "on reshape:  (2916648,)\n",
      "for ip:  shot_87.rsf  data.shape =  (4501, 648)\n",
      "done saving file  /media/ebs_3tb/poc-machine-seis/data/biased/tensors/shot_87.txt len(y_train)  2\n",
      "on reshape:  (2916648,)\n",
      "for ip:  shot_80.rsf  data.shape =  (4501, 648)\n",
      "done saving file  /media/ebs_3tb/poc-machine-seis/data/biased/tensors/shot_80.txt len(y_train)  3\n",
      "on reshape:  (2916648,)\n",
      "for ip:  shot_59.rsf  data.shape =  (4501, 648)\n",
      "done saving file  /media/ebs_3tb/poc-machine-seis/data/biased/tensors/shot_59.txt len(y_train)  4\n",
      "on reshape:  (2916648,)\n",
      "for ip:  shot_47.rsf  data.shape =  (4501, 648)\n",
      "done saving file  /media/ebs_3tb/poc-machine-seis/data/biased/tensors/shot_47.txt len(y_train)  5\n",
      "on reshape:  (2916648,)\n",
      "for ip:  shot_53.rsf  data.shape =  (4501, 648)\n",
      "done saving file  /media/ebs_3tb/poc-machine-seis/data/biased/tensors/shot_53.txt len(y_train)  6\n",
      "on reshape:  (2916648,)\n",
      "for ip:  shot_14.rsf  data.shape =  (4501, 648)\n",
      "done saving file  /media/ebs_3tb/poc-machine-seis/data/biased/tensors/shot_14.txt len(y_train)  7\n",
      "on reshape:  (2916648,)\n",
      "for ip:  shot_95.rsf  data.shape =  (4501, 648)\n",
      "done saving file  /media/ebs_3tb/poc-machine-seis/data/biased/tensors/shot_95.txt len(y_train)  8\n",
      "on reshape:  (2916648,)\n",
      "for ip:  shot_54.rsf  data.shape =  (4501, 648)\n",
      "done saving file  /media/ebs_3tb/poc-machine-seis/data/biased/tensors/shot_54.txt len(y_train)  9\n",
      "on reshape:  (2916648,)\n",
      "for ip:  shot_27.rsf  data.shape =  (4501, 648)\n",
      "done saving file  /media/ebs_3tb/poc-machine-seis/data/biased/tensors/shot_27.txt len(y_train)  10\n",
      "on reshape:  (2916648,)\n",
      "Finished with bias seismic data: x_train.shape (20, 2916648)\n"
     ]
    }
   ],
   "source": [
    "i=0\n",
    "tp=[]\n",
    "for f in biased_files:\n",
    "    x_train[i]=rsf_to_numpy(hdd_biased,f,True,y_train)\n",
    "    i=i+1\n",
    "    #if i==10:\n",
    "    #    break\n",
    "    \n",
    "\n",
    "print \"Finished with bias seismic data: x_train.shape\",x_train.shape\n",
    "\n"
   ]
  },
  {
   "cell_type": "code",
   "execution_count": 31,
   "metadata": {
    "scrolled": true
   },
   "outputs": [
    {
     "name": "stdout",
     "output_type": "stream",
     "text": [
      "for ip:  filtered_shot_15.rsf  data.shape =  (4501, 648)\n",
      "done saving file  /media/ebs_3tb/poc-machine-seis/data/filtered/tensors/filtered_shot_15.txt len(y_train)  11\n",
      "on reshape:  (2916648,)\n",
      "for ip:  filtered_shot_42.rsf  data.shape =  (4501, 648)\n",
      "done saving file  /media/ebs_3tb/poc-machine-seis/data/filtered/tensors/filtered_shot_42.txt len(y_train)  12\n",
      "on reshape:  (2916648,)\n",
      "for ip:  filtered_shot_40.rsf  data.shape =  (4501, 648)\n",
      "done saving file  /media/ebs_3tb/poc-machine-seis/data/filtered/tensors/filtered_shot_40.txt len(y_train)  13\n",
      "on reshape:  (2916648,)\n",
      "for ip:  filtered_shot_21.rsf  data.shape =  (4501, 648)\n",
      "done saving file  /media/ebs_3tb/poc-machine-seis/data/filtered/tensors/filtered_shot_21.txt len(y_train)  14\n",
      "on reshape:  (2916648,)\n",
      "for ip:  filtered_shot_65.rsf  data.shape =  (4501, 648)\n",
      "done saving file  /media/ebs_3tb/poc-machine-seis/data/filtered/tensors/filtered_shot_65.txt len(y_train)  15\n",
      "on reshape:  (2916648,)\n",
      "for ip:  filtered_shot_58.rsf  data.shape =  (4501, 648)\n",
      "done saving file  /media/ebs_3tb/poc-machine-seis/data/filtered/tensors/filtered_shot_58.txt len(y_train)  16\n",
      "on reshape:  (2916648,)\n",
      "for ip:  filtered_shot_81.rsf  data.shape =  (4501, 648)\n",
      "done saving file  /media/ebs_3tb/poc-machine-seis/data/filtered/tensors/filtered_shot_81.txt len(y_train)  17\n",
      "on reshape:  (2916648,)\n",
      "for ip:  filtered_shot_96.rsf  data.shape =  (4501, 648)\n",
      "done saving file  /media/ebs_3tb/poc-machine-seis/data/filtered/tensors/filtered_shot_96.txt len(y_train)  18\n",
      "on reshape:  (2916648,)\n",
      "for ip:  filtered_shot_53.rsf  data.shape =  (4501, 648)\n",
      "done saving file  /media/ebs_3tb/poc-machine-seis/data/filtered/tensors/filtered_shot_53.txt len(y_train)  19\n",
      "on reshape:  (2916648,)\n",
      "for ip:  filtered_shot_32.rsf  data.shape =  (4501, 648)\n",
      "done saving file  /media/ebs_3tb/poc-machine-seis/data/filtered/tensors/filtered_shot_32.txt len(y_train)  20\n",
      "on reshape:  (2916648,)\n",
      "Finished with filtered seismic data: x_train.shape (20, 2916648)\n"
     ]
    }
   ],
   "source": [
    "#for f in filtered_files:\n",
    "    #rsf_to_numpy(hdd_filtered,f,False,y_train)\n",
    "#print \"Finished with filtered seismic data\"\n",
    "j=0\n",
    "for f in filtered_files:\n",
    "    x_train[i]=rsf_to_numpy(hdd_filtered,f,False,y_train)\n",
    "    i=i+1\n",
    "    j=j+1\n",
    "    #if j==10:\n",
    "    #    break\n",
    "    \n",
    "print \"Finished with filtered seismic data: x_train.shape\",x_train.shape"
   ]
  },
  {
   "cell_type": "markdown",
   "metadata": {},
   "source": [
    "save the data to file, currently saving to separate files. fix this later"
   ]
  },
  {
   "cell_type": "code",
   "execution_count": 32,
   "metadata": {},
   "outputs": [],
   "source": [
    "hdd_csv=\"/media/ebs_3tb/poc-machine-seis/txt_data/data.csv\"\n",
    "#hdd_label_csv=\"/media/ebs_3tb/poc-machine-seis/txt_data/labels.csv\"\n",
    "np.savetxt(hdd_csv,x_train)\n",
    "#np.savetxt(hdd_label_csv,y_train)"
   ]
  },
  {
   "cell_type": "markdown",
   "metadata": {},
   "source": [
    "load to test"
   ]
  },
  {
   "cell_type": "markdown",
   "metadata": {},
   "source": [
    "reshape back to (4501,648)"
   ]
  },
  {
   "cell_type": "code",
   "execution_count": null,
   "metadata": {},
   "outputs": [],
   "source": []
  }
 ],
 "metadata": {
  "kernelspec": {
   "display_name": "Python 2",
   "language": "python",
   "name": "python2"
  },
  "language_info": {
   "codemirror_mode": {
    "name": "ipython",
    "version": 2
   },
   "file_extension": ".py",
   "mimetype": "text/x-python",
   "name": "python",
   "nbconvert_exporter": "python",
   "pygments_lexer": "ipython2",
   "version": "2.7.15rc1"
  }
 },
 "nbformat": 4,
 "nbformat_minor": 2
}
