{
 "cells": [
  {
   "cell_type": "code",
   "execution_count": 23,
   "metadata": {},
   "outputs": [],
   "source": [
    "import keras\n",
    "from keras import applications\n",
    "from keras.preprocessing.image import ImageDataGenerator\n",
    "from keras import optimizers\n",
    "from keras.models import Sequential, Model\n",
    "from keras.layers import Dropout,Flatten,Dense,Conv2D,MaxPooling2D\n",
    "from keras import backend as k\n",
    "from keras.callbacks import ModelCheckpoint,LearningRateScheduler,TensorBoard,EarlyStopping\n",
    "import numpy as np\n",
    "import random"
   ]
  },
  {
   "cell_type": "code",
   "execution_count": 19,
   "metadata": {},
   "outputs": [
    {
     "name": "stdout",
     "output_type": "stream",
     "text": [
      "(10, 2916648)\n"
     ]
    }
   ],
   "source": [
    "\n",
    "hdd_csv=\"/media/sharath/Elements/RSF/training_data/all_data.csv\"\n",
    "hdd_label_csv=\"/media/sharath/Elements/RSF/training_data/labels.csv\"\n",
    "\n",
    "#hdd_csv=\"/media/ebs_3tb/poc-machine-seis/txt_data/data.csv\"\n",
    "#hdd_label_csv=\"/media/ebs_3tb/poc-machine-seis/txt_data/labels.csv\"\n",
    "\n",
    "#hdd_train_csv=\"/media/sharath/Elements/RSF/test_data/test_data.csv\"\n",
    "#hdd_train_label_csv=\"/media/sharath/Elements/RSF/test_data/test_labels.csv\"\n",
    "\n",
    "\n",
    "batch_size=10\n",
    "num_classes=2\n",
    "epochs=4\n",
    "\n",
    "data_rows,data_cols=4501,648\n",
    "train_samples=10\n",
    "test_samples=4\n",
    "x=np.loadtxt(hdd_csv)\n",
    "y=np.loadtxt(hdd_label_csv)\n",
    "\n",
    "\n",
    "#x_test=np.loadtxt(hdd_train_csv)\n",
    "#y_test=np.loadtxt(hdd_train_label_csv)\n",
    "print(x.shape)\n"
   ]
  },
  {
   "cell_type": "markdown",
   "metadata": {},
   "source": [
    "shuffle the data. currently unshuffled!"
   ]
  },
  {
   "cell_type": "markdown",
   "metadata": {},
   "source": [
    "import random\n",
    "tp_train=(x_train,y_train)\n",
    "tp_test=(x_test,y_test)\n",
    "l=list(tp_train)\n",
    "random.shuffle(l)\n",
    "x2_train=np.zeros(x_train.shape)\n",
    "y2_train=np.zeros(y_train.shape)\n",
    "for ll in l:\n",
    "    "
   ]
  },
  {
   "cell_type": "markdown",
   "metadata": {},
   "source": [
    "reshape to (10,4501,648,1)\n"
   ]
  },
  {
   "cell_type": "code",
   "execution_count": 21,
   "metadata": {},
   "outputs": [
    {
     "name": "stdout",
     "output_type": "stream",
     "text": [
      "[[1. 0.]\n",
      " [1. 0.]\n",
      " [1. 0.]\n",
      " [1. 0.]\n",
      " [1. 0.]\n",
      " [0. 1.]\n",
      " [0. 1.]\n",
      " [0. 1.]\n",
      " [0. 1.]\n",
      " [0. 1.]]\n",
      "[[1. 0.]\n",
      " [1. 0.]\n",
      " [0. 1.]\n",
      " [0. 1.]]\n"
     ]
    }
   ],
   "source": [
    "x_train=x_train.reshape(train_samples,data_rows,data_cols,1)\n",
    "x_test=x_test.reshape(test_samples,data_rows,data_cols,1)\n",
    "y_train=keras.utils.to_categorical(y_train,num_classes)\n",
    "y_test=keras.utils.to_categorical(y_test,num_classes)\n",
    "print(y_train)\n",
    "print(y_test)"
   ]
  },
  {
   "cell_type": "markdown",
   "metadata": {},
   "source": [
    "build network"
   ]
  },
  {
   "cell_type": "code",
   "execution_count": 26,
   "metadata": {},
   "outputs": [
    {
     "name": "stdout",
     "output_type": "stream",
     "text": [
      "_________________________________________________________________\n",
      "Layer (type)                 Output Shape              Param #   \n",
      "=================================================================\n",
      "conv2d_5 (Conv2D)            (None, 4491, 639, 32)     3552      \n",
      "_________________________________________________________________\n",
      "conv2d_6 (Conv2D)            (None, 4482, 630, 64)     204864    \n",
      "_________________________________________________________________\n",
      "max_pooling2d_3 (MaxPooling2 (None, 2241, 315, 64)     0         \n",
      "_________________________________________________________________\n",
      "dropout_5 (Dropout)          (None, 2241, 315, 64)     0         \n",
      "_________________________________________________________________\n",
      "flatten_3 (Flatten)          (None, 45178560)          0         \n",
      "_________________________________________________________________\n",
      "dense_5 (Dense)              (None, 128)               5782855808\n",
      "_________________________________________________________________\n",
      "dropout_6 (Dropout)          (None, 128)               0         \n",
      "_________________________________________________________________\n",
      "dense_6 (Dense)              (None, 2)                 258       \n",
      "=================================================================\n",
      "Total params: 5,783,064,482\n",
      "Trainable params: 5,783,064,482\n",
      "Non-trainable params: 0\n",
      "_________________________________________________________________\n",
      "None\n"
     ]
    }
   ],
   "source": [
    "model=Sequential()\n",
    "model.add(Conv2D(32,kernel_size=(11,10)\n",
    "                 ,activation='relu'\n",
    "                 ,input_shape=(data_rows,data_cols,1)))\n",
    "\n",
    "model.add(Conv2D(64,kernel_size=(10,10)\n",
    "                   ,activation='relu'))\n",
    "model.add(MaxPooling2D(pool_size=(2,2)))\n",
    "model.add(Dropout(0.25))\n",
    "model.add(Flatten())\n",
    "model.add(Dense(128,activation='relu'))\n",
    "model.add(Dropout(0.25))\n",
    "model.add(Dense(num_classes,activation='softmax'))\n",
    "model.compile(loss=keras.losses.categorical_crossentropy,\n",
    "             optimizer=keras.optimizers.Adadelta()\n",
    "             ,metrics=['accuracy'])\n",
    "print(model.summary())"
   ]
  },
  {
   "cell_type": "markdown",
   "metadata": {},
   "source": [
    "training the model"
   ]
  },
  {
   "cell_type": "code",
   "execution_count": null,
   "metadata": {},
   "outputs": [],
   "source": [
    "model.fit(x_train,y_train\n",
    "         ,batch_size=batch_size\n",
    "         ,epochs=epochs\n",
    "         ,verbose=1\n",
    "         ,validation_data=(x_test,y_test))\n",
    "score=model.evaluate(x_test,y_test,verbose=0)\n",
    "print('Test loss: ',score[0])\n",
    "print('Test accuracy: ',score[1])"
   ]
  }
 ],
 "metadata": {
  "kernelspec": {
   "display_name": "Python 3",
   "language": "python",
   "name": "python3"
  },
  "language_info": {
   "codemirror_mode": {
    "name": "ipython",
    "version": 3
   },
   "file_extension": ".py",
   "mimetype": "text/x-python",
   "name": "python",
   "nbconvert_exporter": "python",
   "pygments_lexer": "ipython3",
   "version": "3.5.2"
  }
 },
 "nbformat": 4,
 "nbformat_minor": 2
}
