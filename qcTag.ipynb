{
 "cells": [
  {
   "cell_type": "code",
   "execution_count": 2,
   "metadata": {},
   "outputs": [
    {
     "name": "stderr",
     "output_type": "stream",
     "text": [
      "Using TensorFlow backend.\n"
     ]
    }
   ],
   "source": [
    "import keras\n",
    "from keras import applications\n",
    "from keras.preprocessing.image import ImageDataGenerator\n",
    "from keras.optimizers import Adadelta\n",
    "from keras.models import Sequential, Model\n",
    "from keras.layers import Dropout,Flatten,Dense,Conv2D,MaxPooling2D\n",
    "from keras import backend as k\n",
    "from keras.callbacks import ModelCheckpoint,LearningRateScheduler,TensorBoard,EarlyStopping\n",
    "import numpy as np\n",
    "import random"
   ]
  },
  {
   "cell_type": "code",
   "execution_count": 3,
   "metadata": {},
   "outputs": [
    {
     "name": "stdout",
     "output_type": "stream",
     "text": [
      "(20, 2916648)\n",
      "train_samples  16.0\n",
      "test_samples 4.0\n"
     ]
    }
   ],
   "source": [
    "\n",
    "hdd_csv=\"/media/sharath/Elements/RSF/training_data/all_data.csv\"\n",
    "hdd_label_csv=\"/media/sharath/Elements/RSF/training_data/labels.csv\"\n",
    "\n",
    "#hdd_csv=\"/media/ebs_3tb/poc-machine-seis/txt_data/data.csv\"\n",
    "#hdd_label_csv=\"/media/ebs_3tb/poc-machine-seis/txt_data/labels.csv\"\n",
    "\n",
    "#hdd_train_csv=\"/media/sharath/Elements/RSF/test_data/test_data.csv\"\n",
    "#hdd_train_label_csv=\"/media/sharath/Elements/RSF/test_data/test_labels.csv\"\n",
    "\n",
    "\n",
    "batch_size=5\n",
    "num_classes=2\n",
    "epochs=4\n",
    "\n",
    "data_rows,data_cols=4501,648\n",
    "\n",
    "x=np.loadtxt(hdd_csv)\n",
    "y=np.loadtxt(hdd_label_csv)\n",
    "train_samples=x.shape[0]*0.8\n",
    "test_samples=x.shape[0]*0.2\n",
    "\n",
    "#x_test=np.loadtxt(hdd_train_csv)\n",
    "#y_test=np.loadtxt(hdd_train_label_csv)\n",
<<<<<<< HEAD
    "print(x.shape)\n",
    "print(\"train_samples \",train_samples)\n",
    "print(\"test_samples\",test_samples)\n"
=======
    "print(x.shape)\n"
>>>>>>> 9b86d73811c02f621270b5a23fa85b8f8ae28170
   ]
  },
  {
   "cell_type": "code",
   "execution_count": 4,
   "metadata": {},
   "outputs": [],
   "source": [
    "train_samples=int(train_samples)\n",
    "test_samples=int(test_samples)"
   ]
  },
  {
   "cell_type": "code",
   "execution_count": 5,
   "metadata": {},
   "outputs": [],
   "source": [
    "tp=zip(x,y)\n",
    "l=list(tp)\n",
    "len(l)\n",
    "random.shuffle(l)\n",
    "x_train=np.zeros(shape=(train_samples,data_rows*data_cols))\n",
    "y_train=np.zeros(shape=(train_samples))\n",
    "i=0\n",
    "\n",
    "for ent in l[:train_samples]:\n",
    "    x_train[i]=ent[0]\n",
    "    y_train[i]=ent[1]\n",
    "    i=i+1\n",
    "\n",
    "x_test=np.zeros(shape=(test_samples,data_rows*data_cols))\n",
    "y_test=np.zeros(shape=(test_samples))\n",
    "i=0\n",
    "for ent in l[train_samples:]:\n",
    "    x_test[i]=ent[0]\n",
    "    y_test[i]=ent[1]\n",
    "    i=i+1\n"
   ]
  },
  {
   "cell_type": "code",
   "execution_count": 6,
   "metadata": {},
   "outputs": [
    {
     "name": "stdout",
     "output_type": "stream",
     "text": [
      "(16, 2916648)\n",
      "(16,)\n",
      "(4, 2916648)\n",
      "(4,)\n",
      "(20, 2916648)\n",
      "(20,)\n"
     ]
    }
   ],
   "source": [
    "print(x_train.shape)\n",
    "print(y_train.shape)\n",
    "print(x_test.shape)\n",
    "print(y_test.shape)\n",
    "print(x.shape)\n",
    "print(y.shape)"
   ]
  },
  {
   "cell_type": "markdown",
   "metadata": {},
   "source": [
    "reshape to (10,4501,648,1)\n"
   ]
  },
  {
   "cell_type": "code",
   "execution_count": 7,
   "metadata": {},
   "outputs": [
    {
     "name": "stdout",
     "output_type": "stream",
     "text": [
      "(16, 4501, 648, 1)\n",
      "(4, 4501, 648, 1)\n",
      "[[0. 1.]\n",
      " [1. 0.]\n",
      " [1. 0.]\n",
      " [0. 1.]\n",
      " [0. 1.]\n",
      " [1. 0.]\n",
      " [1. 0.]\n",
      " [0. 1.]\n",
      " [0. 1.]\n",
      " [0. 1.]\n",
      " [1. 0.]\n",
      " [1. 0.]\n",
      " [1. 0.]\n",
      " [0. 1.]\n",
      " [0. 1.]\n",
      " [1. 0.]]\n",
      "[[0. 1.]\n",
      " [1. 0.]\n",
      " [1. 0.]\n",
      " [0. 1.]]\n"
     ]
    }
   ],
   "source": [
    "x_train=x_train.reshape(train_samples,data_rows,data_cols,1)\n",
    "x_test=x_test.reshape(test_samples,data_rows,data_cols,1)\n",
    "y_train=keras.utils.to_categorical(y_train,num_classes)\n",
    "y_test=keras.utils.to_categorical(y_test,num_classes)\n",
    "print(x_train.shape)\n",
    "print(x_test.shape)\n",
    "print(y_train)\n",
    "print(y_test)"
   ]
  },
  {
   "cell_type": "markdown",
   "metadata": {},
   "source": [
    "build network"
   ]
  },
  {
   "cell_type": "code",
   "execution_count": 8,
   "metadata": {},
   "outputs": [
    {
     "name": "stdout",
     "output_type": "stream",
     "text": [
      "_________________________________________________________________\n",
      "Layer (type)                 Output Shape              Param #   \n",
      "=================================================================\n",
      "conv2d_1 (Conv2D)            (None, 4499, 646, 8)      80        \n",
      "_________________________________________________________________\n",
      "conv2d_2 (Conv2D)            (None, 4497, 644, 16)     1168      \n",
      "_________________________________________________________________\n",
      "max_pooling2d_1 (MaxPooling2 (None, 2248, 322, 16)     0         \n",
      "_________________________________________________________________\n",
      "dropout_1 (Dropout)          (None, 2248, 322, 16)     0         \n",
      "_________________________________________________________________\n",
      "flatten_1 (Flatten)          (None, 11581696)          0         \n",
      "_________________________________________________________________\n",
      "dense_1 (Dense)              (None, 128)               1482457216\n",
      "_________________________________________________________________\n",
      "dropout_2 (Dropout)          (None, 128)               0         \n",
      "_________________________________________________________________\n",
      "dense_2 (Dense)              (None, 2)                 258       \n",
      "=================================================================\n",
      "Total params: 1,482,458,722\n",
      "Trainable params: 1,482,458,722\n",
      "Non-trainable params: 0\n",
      "_________________________________________________________________\n",
      "None\n"
     ]
    }
   ],
   "source": [
    "model=Sequential()\n",
    "model.add(Conv2D(8,kernel_size=(3,3)\n",
    "                 ,activation='relu'\n",
    "                 ,input_shape=(data_rows,data_cols,1)))\n",
    "\n",
    "model.add(Conv2D(16,kernel_size=(3,3)\n",
    "                   ,activation='relu'))\n",
    "model.add(MaxPooling2D(pool_size=(2,2)))\n",
    "model.add(Dropout(0.25))\n",
    "model.add(Flatten())\n",
    "model.add(Dense(128,activation='relu'))\n",
    "model.add(Dropout(0.25))\n",
    "model.add(Dense(num_classes,activation='softmax'))\n",
    "model.compile(loss=keras.losses.categorical_crossentropy,\n",
    "             optimizer=Adadelta()\n",
    "             ,metrics=['accuracy'])\n",
    "print(model.summary())"
   ]
  },
  {
   "cell_type": "markdown",
   "metadata": {},
   "source": [
    "training the model"
   ]
  },
  {
   "cell_type": "code",
   "execution_count": 9,
   "metadata": {},
   "outputs": [
    {
     "name": "stdout",
     "output_type": "stream",
     "text": [
      "           OPERATION           DATA DIMENSIONS   WEIGHTS(N)   WEIGHTS(%)\n",
      "\n",
      "               Input   #####   4501  648    1\n",
      "              Conv2D    \\|/  -------------------        80     0.0%\n",
      "                relu   #####   4499  646    8\n",
      "              Conv2D    \\|/  -------------------      1168     0.0%\n",
      "                relu   #####   4497  644   16\n",
      "        MaxPooling2D   Y max -------------------         0     0.0%\n",
      "                       #####   2248  322   16\n",
      "             Dropout    | || -------------------         0     0.0%\n",
      "                       #####   2248  322   16\n",
      "             Flatten   ||||| -------------------         0     0.0%\n",
      "                       #####    11581696\n",
      "               Dense   XXXXX -------------------1482457216   100.0%\n",
      "                relu   #####         128\n",
      "             Dropout    | || -------------------         0     0.0%\n",
      "                       #####         128\n",
      "               Dense   XXXXX -------------------       258     0.0%\n",
      "             softmax   #####           2\n"
     ]
    }
   ],
   "source": [
    "from keras_sequential_ascii import sequential_model_to_ascii_printout\n",
    "sequential_model_to_ascii_printout(model)"
   ]
  },
  {
   "cell_type": "code",
   "execution_count": null,
   "metadata": {},
   "outputs": [
    {
     "name": "stdout",
     "output_type": "stream",
     "text": [
      "Train on 16 samples, validate on 4 samples\n",
      "Epoch 1/2\n"
     ]
    }
   ],
   "source": [
    "model.fit(x_train,y_train\n",
    "         ,batch_size=2\n",
    "         ,epochs=2\n",
    "         ,verbose=1\n",
    "         ,validation_data=(x_test,y_test))\n",
    "score=model.evaluate(x_test,y_test,verbose=1)\n",
    "print('Test loss: ',score[0])\n",
    "print('Test accuracy: ',score[1])"
   ]
  },
  {
   "cell_type": "code",
   "execution_count": null,
   "metadata": {},
   "outputs": [],
   "source": []
  }
 ],
 "metadata": {
  "kernelspec": {
   "display_name": "Python 3",
   "language": "python",
   "name": "python3"
  },
  "language_info": {
   "codemirror_mode": {
    "name": "ipython",
    "version": 3
   },
   "file_extension": ".py",
   "mimetype": "text/x-python",
   "name": "python",
   "nbconvert_exporter": "python",
   "pygments_lexer": "ipython3",
<<<<<<< HEAD
   "version": "3.6.6"
=======
   "version": "3.5.2"
>>>>>>> 9b86d73811c02f621270b5a23fa85b8f8ae28170
  }
 },
 "nbformat": 4,
 "nbformat_minor": 2
}
